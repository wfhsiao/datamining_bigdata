{
 "cells": [
  {
   "cell_type": "code",
   "execution_count": 2,
   "metadata": {
    "collapsed": true
   },
   "outputs": [],
   "source": [
    "import requests\n",
    "from bs4 import BeautifulSoup"
   ]
  },
  {
   "cell_type": "code",
   "execution_count": 3,
   "metadata": {
    "collapsed": true
   },
   "outputs": [],
   "source": [
    "payload = {\n",
    "   'from': 'https://www.ptt.cc/bbs/Gossiping/index.html',\n",
    "\t'yes': 'yes'\n",
    "}\n",
    "headers = {\n",
    "\t'user-agent': 'Mozilla/5.0 (Macintosh; Intel Mac OS X 10_12_3) AppleWebKit/537.36 (KHTML, like Gecko) Chrome/56.0.2924.87 Safari/537.36'\n",
    "}"
   ]
  },
  {
   "cell_type": "code",
   "execution_count": 4,
   "metadata": {
    "collapsed": true
   },
   "outputs": [],
   "source": [
    "rs = requests.Session()\n",
    "rs.post('https://www.ptt.cc/ask/over18', data=payload, headers=headers)\n",
    "res = rs.get('https://www.ptt.cc/bbs/Gossiping/index.html', headers=headers)\n",
    "\n",
    "soup = BeautifulSoup(res.text, 'html.parser')"
   ]
  },
  {
   "cell_type": "code",
   "execution_count": 5,
   "metadata": {},
   "outputs": [
    {
     "name": "stdout",
     "output_type": "stream",
     "text": [
      "12/06 AntiGayMan \n",
      "[問卦] 養蠅虎 它會幫忙吃蚊子嗎\n",
      "\n",
      "12/06 pqpqpqpq \n",
      "[問卦] 男森到底是該尿完洗手還是尿前洗手？\n",
      "\n",
      "12/06 Ieesmart \n",
      "[問卦] 日本這麼多怪獸為什麼就只有酷斯拉最旺\n",
      "\n",
      "12/06 Amgine \n",
      "[問卦] 欸欸欸！八卦群組缺人怎摸半？\n",
      "\n",
      "12/06 somanyee \n",
      "Re: [新聞] 民進黨是否再與柯P合作　鄭文燦：怎麼不可能？\n",
      "\n",
      "12/06 a205090a \n",
      "[問卦] 西方人沒有孝順的觀念？\n",
      "\n",
      "12/06 lpbrother \n",
      "Re: [問卦] 驚！照胃鏡正夯 接著性功能障礙？\n",
      "\n",
      "12/06 love581 \n",
      "[新聞] 內需不振 新加坡第3季GDP意外減到比台灣\n",
      "\n",
      "12/06 bahamutuh \n",
      "[新聞] 環團:600個原子彈原料放那 不能掉以輕心\n",
      "\n",
      "12/06 sean12345678 \n",
      "Re: [新聞] 一晚500流血價　「故宮南院」飯店連倒4家\n",
      "\n",
      "12/06 suntw \n",
      "[新聞] 全台瘋蓋80彩繪村、13座天空步道　觀光\n",
      "\n",
      "12/06 orionbeer \n",
      "[問卦] 米其林是雷餐指標嗎？\n",
      "\n",
      "12/06 ulycess \n",
      "Re: [問卦]日本武士刀幾乎是最弱的刀吧？？\n",
      "\n",
      "12/06 xanthippe \n",
      "Re: [新聞] 馬英九：統一急不得 循序漸進\n",
      "\n",
      "12/06 sevenfeet \n",
      "Re: [問卦] 反核不懂基載的卦？\n",
      "\n",
      "12/06 balahaha \n",
      "[問卦] 我不是大母豬vs烏咪沒有犯罪 哪句萌\n",
      "\n",
      "12/06 acz0221 \n",
      "[問卦] 滿清皇族怎麼一堆跟著來台灣啊？\n",
      "\n",
      "12/06 rial \n",
      "Re: [問卦] 為什麼台灣的企業家大都是9.2\n",
      "\n",
      "11/11 Kay731 \n",
      "[公告] 八卦板板規(2017.11.11)\n",
      "\n",
      "11/06 jacklyl \n",
      "[協尋]1201鳳山車禍1130林口車禍1128新海橋下車禍\n",
      "\n",
      "12/03 XXXXGAY \n",
      "[公告] 八卦板規修改草案(2018.12.11後更新)\n",
      "\n",
      "12/01 kasion \n",
      "[公告] 十二月置底閒聊區\n",
      "\n"
     ]
    }
   ],
   "source": [
    "items = soup.select('.r-ent')\n",
    "for item in items:\n",
    "    print(item.select('.date')[0].text, item.select('.author')[0].text, item.select('.title')[0].text)"
   ]
  },
  {
   "cell_type": "code",
   "execution_count": null,
   "metadata": {
    "collapsed": true
   },
   "outputs": [],
   "source": []
  }
 ],
 "metadata": {
  "kernelspec": {
   "display_name": "Python 3",
   "language": "python",
   "name": "python3"
  },
  "language_info": {
   "codemirror_mode": {
    "name": "ipython",
    "version": 3
   },
   "file_extension": ".py",
   "mimetype": "text/x-python",
   "name": "python",
   "nbconvert_exporter": "python",
   "pygments_lexer": "ipython3",
   "version": "3.6.3"
  }
 },
 "nbformat": 4,
 "nbformat_minor": 2
}
