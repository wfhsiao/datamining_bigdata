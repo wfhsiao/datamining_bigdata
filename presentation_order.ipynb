{
 "cells": [
  {
   "cell_type": "code",
   "execution_count": 2,
   "metadata": {
    "collapsed": true
   },
   "outputs": [],
   "source": [
    "import numpy as np"
   ]
  },
  {
   "cell_type": "code",
   "execution_count": 3,
   "metadata": {},
   "outputs": [
    {
     "name": "stdout",
     "output_type": "stream",
     "text": [
      "06\n",
      "07\n",
      "08\n",
      "09\n",
      "11\n",
      "13\n",
      "16\n",
      "40\n",
      "110\n",
      "['BBF107011', 'BBF107008', 'CBF104040', 'BBF107016', 'BBF107007', 'BBF107013', 'BBF107009', 'BBF107006']\n"
     ]
    }
   ],
   "source": [
    "sno= ['BBF107006', 'BBF107007', 'BBF107008', 'BBF107009', 'BBF107011', 'BBF107013', 'BBF107016', 'CBF104040']\n",
    "seed=0\n",
    "for no in sno:\n",
    "    print(no[-2:])\n",
    "    seed += (int)(no[-2:])\n",
    "    \n",
    "print(seed)\n",
    "np.random.seed(seed)\n",
    "\n",
    "np.random.shuffle(sno)\n",
    "print(sno)"
   ]
  }
 ],
 "metadata": {
  "kernelspec": {
   "display_name": "Python 3",
   "language": "python",
   "name": "python3"
  },
  "language_info": {
   "codemirror_mode": {
    "name": "ipython",
    "version": 3
   },
   "file_extension": ".py",
   "mimetype": "text/x-python",
   "name": "python",
   "nbconvert_exporter": "python",
   "pygments_lexer": "ipython3",
   "version": "3.6.2"
  }
 },
 "nbformat": 4,
 "nbformat_minor": 2
}
