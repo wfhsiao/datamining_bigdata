{
 "cells": [
  {
   "cell_type": "code",
   "execution_count": 1,
   "metadata": {},
   "outputs": [
    {
     "name": "stdout",
     "output_type": "stream",
     "text": [
      "[[[ 0.  0.  1.  0.  1.]]\n",
      "\n",
      " [[ 1.  0.  0.  0.  1.]]\n",
      "\n",
      " [[ 0.  0.  1.  0.  1.]]\n",
      "\n",
      " [[ 1.  1.  0.  0.  1.]]]\n"
     ]
    }
   ],
   "source": [
    "import tensorflow as tf\n",
    "import numpy as np\n",
    "\n",
    "timesteps = 1\n",
    "\n",
    "# e.g (三筆，字詞向量長度假設5)\n",
    "train_data = [[0,0,1,0,1],\n",
    "              [1,0,0,0,1],\n",
    "              [0,0,1,0,1],\n",
    "              [1,1,0,0,1]]\n",
    "num_input = len(train_data[0])\n",
    "# 輸入資料為二維[未知筆數，字詞向量長度]\n",
    "inputX = tf.placeholder(\"float\", [None, num_input])\n",
    "\n",
    "# 三維格式\n",
    "# (未知筆數，每筆輸入次數，輸入的屬性數量)\n",
    "X = tf.placeholder(\"float\", [None, timesteps, num_input])\n",
    "\n",
    "# 將二維轉換為三維\n",
    "# -1，是自動計算剩餘大小來得出最後size\n",
    "# 例：二維 3 * 5，叁維x*1*5，3*5 = ?*1*5 => ? = 3\n",
    "reshapeX = tf.reshape(inputX, (-1, timesteps, num_input))\n",
    "\n",
    "# 轉換為numpy類型\n",
    "npdata = np.array(train_data,np.int32) \n",
    "\n",
    "with tf.Session() as sess:\n",
    "    print(sess.run(reshapeX, feed_dict={inputX: npdata}))"
   ]
  },
  {
   "cell_type": "code",
   "execution_count": 3,
   "metadata": {},
   "outputs": [
    {
     "data": {
      "text/plain": [
       "array([[0, 1],\n",
       "       [2, 3],\n",
       "       [4, 5]])"
      ]
     },
     "execution_count": 3,
     "metadata": {},
     "output_type": "execute_result"
    }
   ],
   "source": [
    "np.arange(6).reshape(3, -1)"
   ]
  },
  {
   "cell_type": "code",
   "execution_count": null,
   "metadata": {
    "collapsed": true
   },
   "outputs": [],
   "source": []
  }
 ],
 "metadata": {
  "kernelspec": {
   "display_name": "Python 3",
   "language": "python",
   "name": "python3"
  },
  "language_info": {
   "codemirror_mode": {
    "name": "ipython",
    "version": 3
   },
   "file_extension": ".py",
   "mimetype": "text/x-python",
   "name": "python",
   "nbconvert_exporter": "python",
   "pygments_lexer": "ipython3",
   "version": "3.6.2"
  }
 },
 "nbformat": 4,
 "nbformat_minor": 2
}
